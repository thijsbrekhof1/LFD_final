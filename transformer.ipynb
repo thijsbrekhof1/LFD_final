{
  "nbformat": 4,
  "nbformat_minor": 0,
  "metadata": {
    "colab": {
      "provenance": [],
      "gpuType": "T4"
    },
    "kernelspec": {
      "name": "python3",
      "display_name": "Python 3"
    },
    "language_info": {
      "name": "python"
    },
    "accelerator": "GPU"
  },
  "cells": [
    {
      "cell_type": "code",
      "source": [
        "# Install necessary libraries\n",
        "!pip install transformers\n",
        "!pip install emoji\n",
        "!pip install wordsegment\n",
        "!pip install sentencepiece"
      ],
      "metadata": {
        "colab": {
          "base_uri": "https://localhost:8080/"
        },
        "id": "pnYzREfc_OKv",
        "outputId": "922809e2-958e-48c8-a827-deecaf20bdc1"
      },
      "execution_count": null,
      "outputs": [
        {
          "output_type": "stream",
          "name": "stdout",
          "text": [
            "Requirement already satisfied: transformers in /usr/local/lib/python3.10/dist-packages (4.35.0)\n",
            "Requirement already satisfied: filelock in /usr/local/lib/python3.10/dist-packages (from transformers) (3.12.4)\n",
            "Requirement already satisfied: huggingface-hub<1.0,>=0.16.4 in /usr/local/lib/python3.10/dist-packages (from transformers) (0.17.3)\n",
            "Requirement already satisfied: numpy>=1.17 in /usr/local/lib/python3.10/dist-packages (from transformers) (1.23.5)\n",
            "Requirement already satisfied: packaging>=20.0 in /usr/local/lib/python3.10/dist-packages (from transformers) (23.2)\n",
            "Requirement already satisfied: pyyaml>=5.1 in /usr/local/lib/python3.10/dist-packages (from transformers) (6.0.1)\n",
            "Requirement already satisfied: regex!=2019.12.17 in /usr/local/lib/python3.10/dist-packages (from transformers) (2023.6.3)\n",
            "Requirement already satisfied: requests in /usr/local/lib/python3.10/dist-packages (from transformers) (2.31.0)\n",
            "Requirement already satisfied: tokenizers<0.15,>=0.14 in /usr/local/lib/python3.10/dist-packages (from transformers) (0.14.1)\n",
            "Requirement already satisfied: safetensors>=0.3.1 in /usr/local/lib/python3.10/dist-packages (from transformers) (0.4.0)\n",
            "Requirement already satisfied: tqdm>=4.27 in /usr/local/lib/python3.10/dist-packages (from transformers) (4.66.1)\n",
            "Requirement already satisfied: fsspec in /usr/local/lib/python3.10/dist-packages (from huggingface-hub<1.0,>=0.16.4->transformers) (2023.6.0)\n",
            "Requirement already satisfied: typing-extensions>=3.7.4.3 in /usr/local/lib/python3.10/dist-packages (from huggingface-hub<1.0,>=0.16.4->transformers) (4.5.0)\n",
            "Requirement already satisfied: charset-normalizer<4,>=2 in /usr/local/lib/python3.10/dist-packages (from requests->transformers) (3.3.1)\n",
            "Requirement already satisfied: idna<4,>=2.5 in /usr/local/lib/python3.10/dist-packages (from requests->transformers) (3.4)\n",
            "Requirement already satisfied: urllib3<3,>=1.21.1 in /usr/local/lib/python3.10/dist-packages (from requests->transformers) (2.0.7)\n",
            "Requirement already satisfied: certifi>=2017.4.17 in /usr/local/lib/python3.10/dist-packages (from requests->transformers) (2023.7.22)\n",
            "Requirement already satisfied: emoji in /usr/local/lib/python3.10/dist-packages (2.8.0)\n",
            "Requirement already satisfied: wordsegment in /usr/local/lib/python3.10/dist-packages (1.3.1)\n",
            "Requirement already satisfied: sentencepiece in /usr/local/lib/python3.10/dist-packages (0.1.99)\n"
          ]
        }
      ]
    },
    {
      "cell_type": "code",
      "source": [
        "# Import necesarry libraries\n",
        "import random as python_random\n",
        "import argparse\n",
        "import numpy as np\n",
        "\n",
        "from keras.initializers import Constant\n",
        "from sklearn.metrics import accuracy_score, f1_score\n",
        "from sklearn.preprocessing import LabelBinarizer\n",
        "\n",
        "from transformers import TFAutoModelForSequenceClassification\n",
        "from transformers import AutoTokenizer\n",
        "\n",
        "import tensorflow as tf\n",
        "from tensorflow.keras.losses import BinaryCrossentropy\n",
        "from tensorflow.keras.optimizers import Adam\n",
        "from tensorflow.keras.layers import TextVectorization\n",
        "from tensorflow.keras.callbacks import Callback\n",
        "\n",
        "from sklearn.metrics import confusion_matrix\n",
        "import seaborn as sns\n",
        "import matplotlib.pyplot as plt\n",
        "import pandas as pd\n",
        "\n",
        "import emoji\n",
        "from wordsegment import load, segment"
      ],
      "metadata": {
        "id": "B1DeafB__RG5"
      },
      "execution_count": null,
      "outputs": []
    },
    {
      "cell_type": "code",
      "execution_count": null,
      "metadata": {
        "id": "rwjWzNzI_HjT",
        "colab": {
          "base_uri": "https://localhost:8080/"
        },
        "outputId": "53f500c7-0259-4bce-8b7d-825f2263340a"
      },
      "outputs": [
        {
          "output_type": "stream",
          "name": "stdout",
          "text": [
            "Drive already mounted at /content/gdrive; to attempt to forcibly remount, call drive.mount(\"/content/gdrive\", force_remount=True).\n"
          ]
        }
      ],
      "source": [
        "# Mounting google drive to import files later\n",
        "from google.colab import drive\n",
        "drive.mount('/content/gdrive')"
      ]
    },
    {
      "cell_type": "code",
      "source": [
        "# Setting random seeds\n",
        "np.random.seed(123)\n",
        "tf.random.set_seed(123)\n",
        "python_random.seed(123)"
      ],
      "metadata": {
        "id": "R7yp3gHh_UXN"
      },
      "execution_count": null,
      "outputs": []
    },
    {
      "cell_type": "code",
      "source": [
        "def create_arg_parser():\n",
        "    \"\"\"Function that builds up all the arguments used in this script.\n",
        "    :return: the parsed arguments\n",
        "    \"\"\"\n",
        "    drive_path = \"/content/gdrive/MyDrive/lfd_fp_data/\" # File path in drive, can be removed when using as a solo python script.\n",
        "    parser = argparse.ArgumentParser()\n",
        "\n",
        "    parser.add_argument('-f') # needed to run in google colab, can be removed outside colab.\n",
        "    parser.add_argument(\"-i\",\n",
        "                        \"--train_file\",\n",
        "                        default=drive_path + 'train.tsv',\n",
        "                        type=str,\n",
        "                        help=\"Input file to learn from (default train.tsv)\"\n",
        "    )\n",
        "    parser.add_argument(\"-d\",\n",
        "                        \"--dev_file\",\n",
        "                        type=str,\n",
        "                        default=drive_path + 'dev.tsv',\n",
        "                        help=\"Separate dev set to read in (default dev.tsv)\"\n",
        "    )\n",
        "    parser.add_argument(\"-t\",\n",
        "                        \"--test_file\",\n",
        "                        type=str,\n",
        "                        default=drive_path + 'test.tsv',\n",
        "                        help=\"If added, use trained model to predict on test set\"\n",
        "    )\n",
        "\n",
        "    args = parser.parse_args()\n",
        "\n",
        "    return args"
      ],
      "metadata": {
        "id": "m4FpQCAp_Wk5"
      },
      "execution_count": null,
      "outputs": []
    },
    {
      "cell_type": "code",
      "source": [
        "def read_corpus(corpus_file, demojize_clean=False, wordsegment=False):\n",
        "    \"\"\"\n",
        "    Reads the corpus file and gets the documents with labels.\n",
        "    :param str corpus_file: Path to the corpus file.\n",
        "    :return: the document\n",
        "    :return: the labels\n",
        "    \"\"\"\n",
        "    documents = []\n",
        "    labels = []\n",
        "\n",
        "    with open(corpus_file, encoding=\"utf-8\") as in_file:\n",
        "        for line in in_file:\n",
        "            if args.demojize:\n",
        "                line = emoji.demojize(line)\n",
        "\n",
        "            elif args.demojize_clean:\n",
        "                line = emoji.demojize(line)\n",
        "                for word in line.split():\n",
        "                    if word[0] == \":\" and word[-1] == \":\":\n",
        "                        line = line.replace(word, \" \".join(segment(word)))\n",
        "\n",
        "            if args.wordsegment:\n",
        "                for word in line.split():\n",
        "                    if \"#\" in word:\n",
        "                        line = line.replace(word, \" \".join(segment(word)))\n",
        "\n",
        "\n",
        "            documents.append(' '.join(line.split()[:-1]))\n",
        "            labels.append(line.split()[-1])\n",
        "\n",
        "    return documents, labels"
      ],
      "metadata": {
        "id": "MC4audGK_Xjw"
      },
      "execution_count": null,
      "outputs": []
    },
    {
      "cell_type": "code",
      "source": [
        "class F1ScoreCallback(Callback):\n",
        "    def __init__(self, X_dev, Y_dev_bin):\n",
        "        self.X_dev = X_dev\n",
        "        self.Y_dev_bin = Y_dev_bin\n",
        "\n",
        "    def on_epoch_end(self, epoch, logs=None):\n",
        "        Y_pred_dev = self.model.predict(self.X_dev)[\"logits\"]\n",
        "        f1 = f1_score(self.Y_dev_bin, (Y_pred_dev > 0.5).astype(int), average=\"macro\")\n",
        "        print(f\"Epoch {epoch + 1} - F1 Score on Dev Set: {f1:.4f}\")"
      ],
      "metadata": {
        "id": "XtK5GxfmZI94"
      },
      "execution_count": null,
      "outputs": []
    },
    {
      "cell_type": "code",
      "source": [
        "def create_model(X_train, X_dev, Y_train_bin, Y_dev_bin, X_test, Y_test_bin):\n",
        "  '''Create and train the LM'''\n",
        "\n",
        "  # A different LM can be specified here\n",
        "  lm = 'bert-base-uncased'\n",
        "\n",
        "  tokenizer = AutoTokenizer.from_pretrained(lm)\n",
        "\n",
        "  model = TFAutoModelForSequenceClassification.from_pretrained(lm, num_labels=2)\n",
        "\n",
        "  tokens_train = tokenizer(X_train, padding=True, max_length=100, truncation=True, return_tensors=\"np\").data\n",
        "  tokens_dev = tokenizer(X_dev, padding=True, max_length=100, truncation=True, return_tensors=\"np\").data\n",
        "  tokens_test = tokenizer(X_test, padding=True, max_length=100, truncation=True, return_tensors=\"np\").data\n",
        "\n",
        "  loss_function = BinaryCrossentropy(from_logits=True)\n",
        "\n",
        "  optim = Adam(learning_rate=5e-5)\n",
        "\n",
        "  model.compile(loss=loss_function, optimizer=optim, metrics=[\"accuracy\"])\n",
        "\n",
        "  f1_callback = F1ScoreCallback(tokens_dev, Y_dev_bin)\n",
        "\n",
        "  model.fit(tokens_train, Y_train_bin, verbose=1, epochs=2, batch_size=32, validation_data=(tokens_dev, Y_dev_bin), callbacks=[f1_callback])\n",
        "\n",
        "  Y_pred = model.predict(tokens_test)[\"logits\"]\n",
        "\n",
        "\n",
        "  return Y_pred"
      ],
      "metadata": {
        "id": "qCCALZ9t_bBW"
      },
      "execution_count": null,
      "outputs": []
    },
    {
      "cell_type": "code",
      "source": [
        "args = create_arg_parser()\n",
        "\n",
        "# Read in the data and embeddings\n",
        "X_train, Y_train = read_corpus(args.train_file, demojize_clean=True, wordsegment=True)\n",
        "X_dev, Y_dev = read_corpus(args.dev_file, demojize_clean=True, wordsegment=True)\n",
        "X_test, Y_test = read_corpus(args.test_file, demojize_clean=True, wordsegment=True)\n",
        "\n",
        "# Transform string labels to one-hot encodings\n",
        "encoder = LabelBinarizer()\n",
        "\n",
        "Y_train_bin = encoder.fit_transform(Y_train)\n",
        "Y_train_bin = np.hstack((Y_train_bin, 1 - Y_train_bin))\n",
        "\n",
        "Y_dev_bin = encoder.fit_transform(Y_dev)\n",
        "Y_dev_bin = np.hstack((Y_dev_bin, 1 - Y_dev_bin))\n",
        "\n",
        "Y_test_bin = encoder.fit_transform(Y_test)\n",
        "Y_test_bin = np.hstack((Y_test_bin, 1 - Y_test_bin))\n",
        "\n",
        "predictions = create_model(X_train, X_dev, Y_train_bin, Y_dev_bin, X_test, Y_test_bin)"
      ],
      "metadata": {
        "id": "Veg5kCl5_ddV",
        "colab": {
          "base_uri": "https://localhost:8080/"
        },
        "outputId": "0dc2d2be-1422-4f24-e262-d0ff36d5afe1"
      },
      "execution_count": null,
      "outputs": [
        {
          "output_type": "stream",
          "name": "stderr",
          "text": [
            "All PyTorch model weights were used when initializing TFBertForSequenceClassification.\n",
            "\n",
            "Some weights or buffers of the TF 2.0 model TFBertForSequenceClassification were not initialized from the PyTorch model and are newly initialized: ['classifier.weight', 'classifier.bias']\n",
            "You should probably TRAIN this model on a down-stream task to be able to use it for predictions and inference.\n"
          ]
        },
        {
          "output_type": "stream",
          "name": "stdout",
          "text": [
            "Epoch 1/2\n",
            "32/32 [==============================] - 10s 217ms/step\n",
            "Epoch 1 - F1 Score on Dev Set: 0.7299\n",
            "383/383 [==============================] - 325s 698ms/step - loss: 0.4794 - accuracy: 0.7772 - val_loss: 0.4375 - val_accuracy: 0.7910\n",
            "Epoch 2/2\n",
            "32/32 [==============================] - 7s 221ms/step\n",
            "Epoch 2 - F1 Score on Dev Set: 0.7388\n",
            "383/383 [==============================] - 263s 686ms/step - loss: 0.3653 - accuracy: 0.8451 - val_loss: 0.4694 - val_accuracy: 0.7940\n",
            "27/27 [==============================] - 9s 217ms/step\n"
          ]
        }
      ]
    },
    {
      "cell_type": "code",
      "source": [
        "# This is where the test-set scores are calculated as well as\n",
        "# it creates the confusion matrix for the test set\n",
        "\n",
        "true_labels = []\n",
        "for i in Y_test_bin:\n",
        "\n",
        "  true_labels.append(np.where(i==1)[0][0])\n",
        "\n",
        "true_preds = []\n",
        "for p in predictions:\n",
        "  x = np.argmax(p)\n",
        "\n",
        "  true_preds.append(x)\n",
        "\n",
        "print(\"Accuracy score for test set: {}\".format(accuracy_score(true_labels, true_preds)))\n",
        "print(\"f1 score for test set macro: {}\".format(f1_score(true_labels, true_preds, average='macro')))\n",
        "\n",
        "# Printing confusion matrix\n",
        "cf_matrix = confusion_matrix(true_labels, true_preds)\n",
        "index = [\"NOT\", \"OFF\"]\n",
        "columns  = [\"NOT\", \"OFF\"]\n",
        "cm_df = pd.DataFrame(cf_matrix,columns,index)\n",
        "\n",
        "fig = plt.figure(figsize=(10,6))\n",
        "sns.heatmap(cm_df, annot=True, fmt='g')\n",
        "\n",
        "fig.savefig('matrix_bert_run_withpre')"
      ],
      "metadata": {
        "id": "myJZejr2_gRV",
        "colab": {
          "base_uri": "https://localhost:8080/",
          "height": 556
        },
        "outputId": "ddeebdda-a37d-46d9-f165-9cde16f6c580"
      },
      "execution_count": null,
      "outputs": [
        {
          "output_type": "stream",
          "name": "stdout",
          "text": [
            "Accuracy score for test set: 0.8511627906976744\n",
            "f1 score for test set macro: 0.8021624108580631\n"
          ]
        },
        {
          "output_type": "display_data",
          "data": {
            "text/plain": [
              "<Figure size 1000x600 with 2 Axes>"
            ],
            "image/png": "[encoded data removed]"
          },
          "metadata": {}
        }
      ]
    }
  ]
}