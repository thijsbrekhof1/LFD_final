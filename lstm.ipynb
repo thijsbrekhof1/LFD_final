{
 "nbformat": 4,
 "nbformat_minor": 0,
 "metadata": {
  "colab": {
   "provenance": [],
   "gpuType": "T4"
  },
  "kernelspec": {
   "name": "python3",
   "language": "python",
   "display_name": "Python 3 (ipykernel)"
  },
  "language_info": {
   "name": "python"
  },
  "accelerator": "GPU"
 },
 "cells": [
  {
   "cell_type": "code",
   "source": [
    "!pip install emoji\n",
    "!pip install wordsegment\n",
    "!pip install tensorflow\n",
    "!pip install scikit-learn\n",
    "!pip install scikeras"
   ],
   "metadata": {
    "colab": {
     "base_uri": "https://localhost:8080/"
    },
    "id": "pnYzREfc_OKv",
    "outputId": "96a2a3f1-d284-4339-e0f4-e6c769c39ab2",
    "ExecuteTime": {
     "end_time": "2023-11-05T21:46:27.903289Z",
     "start_time": "2023-11-05T21:46:23.174453Z"
    }
   },
   "execution_count": 211,
   "outputs": [
    {
     "name": "stdout",
     "output_type": "stream",
     "text": [
      "Requirement already satisfied: emoji in ./venv/lib/python3.9/site-packages (2.8.0)\r\n",
      "\r\n",
      "\u001B[1m[\u001B[0m\u001B[34;49mnotice\u001B[0m\u001B[1;39;49m]\u001B[0m\u001B[39;49m A new release of pip is available: \u001B[0m\u001B[31;49m23.2.1\u001B[0m\u001B[39;49m -> \u001B[0m\u001B[32;49m23.3.1\u001B[0m\r\n",
      "\u001B[1m[\u001B[0m\u001B[34;49mnotice\u001B[0m\u001B[1;39;49m]\u001B[0m\u001B[39;49m To update, run: \u001B[0m\u001B[32;49mpip install --upgrade pip\u001B[0m\r\n",
      "Requirement already satisfied: wordsegment in ./venv/lib/python3.9/site-packages (1.3.1)\r\n",
      "\r\n",
      "\u001B[1m[\u001B[0m\u001B[34;49mnotice\u001B[0m\u001B[1;39;49m]\u001B[0m\u001B[39;49m A new release of pip is available: \u001B[0m\u001B[31;49m23.2.1\u001B[0m\u001B[39;49m -> \u001B[0m\u001B[32;49m23.3.1\u001B[0m\r\n",
      "\u001B[1m[\u001B[0m\u001B[34;49mnotice\u001B[0m\u001B[1;39;49m]\u001B[0m\u001B[39;49m To update, run: \u001B[0m\u001B[32;49mpip install --upgrade pip\u001B[0m\r\n",
      "Requirement already satisfied: tensorflow in ./venv/lib/python3.9/site-packages (2.14.0)\r\n",
      "Requirement already satisfied: tensorflow-macos==2.14.0 in ./venv/lib/python3.9/site-packages (from tensorflow) (2.14.0)\r\n",
      "Requirement already satisfied: absl-py>=1.0.0 in ./venv/lib/python3.9/site-packages (from tensorflow-macos==2.14.0->tensorflow) (2.0.0)\r\n",
      "Requirement already satisfied: astunparse>=1.6.0 in ./venv/lib/python3.9/site-packages (from tensorflow-macos==2.14.0->tensorflow) (1.6.3)\r\n",
      "Requirement already satisfied: flatbuffers>=23.5.26 in ./venv/lib/python3.9/site-packages (from tensorflow-macos==2.14.0->tensorflow) (23.5.26)\r\n",
      "Requirement already satisfied: gast!=0.5.0,!=0.5.1,!=0.5.2,>=0.2.1 in ./venv/lib/python3.9/site-packages (from tensorflow-macos==2.14.0->tensorflow) (0.5.4)\r\n",
      "Requirement already satisfied: google-pasta>=0.1.1 in ./venv/lib/python3.9/site-packages (from tensorflow-macos==2.14.0->tensorflow) (0.2.0)\r\n",
      "Requirement already satisfied: h5py>=2.9.0 in ./venv/lib/python3.9/site-packages (from tensorflow-macos==2.14.0->tensorflow) (3.10.0)\r\n",
      "Requirement already satisfied: libclang>=13.0.0 in ./venv/lib/python3.9/site-packages (from tensorflow-macos==2.14.0->tensorflow) (16.0.6)\r\n",
      "Requirement already satisfied: ml-dtypes==0.2.0 in ./venv/lib/python3.9/site-packages (from tensorflow-macos==2.14.0->tensorflow) (0.2.0)\r\n",
      "Requirement already satisfied: numpy>=1.23.5 in ./venv/lib/python3.9/site-packages (from tensorflow-macos==2.14.0->tensorflow) (1.26.1)\r\n",
      "Requirement already satisfied: opt-einsum>=2.3.2 in ./venv/lib/python3.9/site-packages (from tensorflow-macos==2.14.0->tensorflow) (3.3.0)\r\n",
      "Requirement already satisfied: packaging in ./venv/lib/python3.9/site-packages (from tensorflow-macos==2.14.0->tensorflow) (23.2)\r\n",
      "Requirement already satisfied: protobuf!=4.21.0,!=4.21.1,!=4.21.2,!=4.21.3,!=4.21.4,!=4.21.5,<5.0.0dev,>=3.20.3 in ./venv/lib/python3.9/site-packages (from tensorflow-macos==2.14.0->tensorflow) (4.24.4)\r\n",
      "Requirement already satisfied: setuptools in ./venv/lib/python3.9/site-packages (from tensorflow-macos==2.14.0->tensorflow) (68.2.0)\r\n",
      "Requirement already satisfied: six>=1.12.0 in ./venv/lib/python3.9/site-packages (from tensorflow-macos==2.14.0->tensorflow) (1.16.0)\r\n",
      "Requirement already satisfied: termcolor>=1.1.0 in ./venv/lib/python3.9/site-packages (from tensorflow-macos==2.14.0->tensorflow) (2.3.0)\r\n",
      "Requirement already satisfied: typing-extensions>=3.6.6 in ./venv/lib/python3.9/site-packages (from tensorflow-macos==2.14.0->tensorflow) (4.8.0)\r\n",
      "Requirement already satisfied: wrapt<1.15,>=1.11.0 in ./venv/lib/python3.9/site-packages (from tensorflow-macos==2.14.0->tensorflow) (1.14.1)\r\n",
      "Requirement already satisfied: tensorflow-io-gcs-filesystem>=0.23.1 in ./venv/lib/python3.9/site-packages (from tensorflow-macos==2.14.0->tensorflow) (0.34.0)\r\n",
      "Requirement already satisfied: grpcio<2.0,>=1.24.3 in ./venv/lib/python3.9/site-packages (from tensorflow-macos==2.14.0->tensorflow) (1.59.0)\r\n",
      "Requirement already satisfied: tensorboard<2.15,>=2.14 in ./venv/lib/python3.9/site-packages (from tensorflow-macos==2.14.0->tensorflow) (2.14.1)\r\n",
      "Requirement already satisfied: tensorflow-estimator<2.15,>=2.14.0 in ./venv/lib/python3.9/site-packages (from tensorflow-macos==2.14.0->tensorflow) (2.14.0)\r\n",
      "Requirement already satisfied: keras<2.15,>=2.14.0 in ./venv/lib/python3.9/site-packages (from tensorflow-macos==2.14.0->tensorflow) (2.14.0)\r\n",
      "Requirement already satisfied: wheel<1.0,>=0.23.0 in ./venv/lib/python3.9/site-packages (from astunparse>=1.6.0->tensorflow-macos==2.14.0->tensorflow) (0.41.2)\r\n",
      "Requirement already satisfied: google-auth<3,>=1.6.3 in ./venv/lib/python3.9/site-packages (from tensorboard<2.15,>=2.14->tensorflow-macos==2.14.0->tensorflow) (2.23.3)\r\n",
      "Requirement already satisfied: google-auth-oauthlib<1.1,>=0.5 in ./venv/lib/python3.9/site-packages (from tensorboard<2.15,>=2.14->tensorflow-macos==2.14.0->tensorflow) (1.0.0)\r\n",
      "Requirement already satisfied: markdown>=2.6.8 in ./venv/lib/python3.9/site-packages (from tensorboard<2.15,>=2.14->tensorflow-macos==2.14.0->tensorflow) (3.5)\r\n",
      "Requirement already satisfied: requests<3,>=2.21.0 in ./venv/lib/python3.9/site-packages (from tensorboard<2.15,>=2.14->tensorflow-macos==2.14.0->tensorflow) (2.31.0)\r\n",
      "Requirement already satisfied: tensorboard-data-server<0.8.0,>=0.7.0 in ./venv/lib/python3.9/site-packages (from tensorboard<2.15,>=2.14->tensorflow-macos==2.14.0->tensorflow) (0.7.2)\r\n",
      "Requirement already satisfied: werkzeug>=1.0.1 in ./venv/lib/python3.9/site-packages (from tensorboard<2.15,>=2.14->tensorflow-macos==2.14.0->tensorflow) (3.0.1)\r\n",
      "Requirement already satisfied: cachetools<6.0,>=2.0.0 in ./venv/lib/python3.9/site-packages (from google-auth<3,>=1.6.3->tensorboard<2.15,>=2.14->tensorflow-macos==2.14.0->tensorflow) (5.3.2)\r\n",
      "Requirement already satisfied: pyasn1-modules>=0.2.1 in ./venv/lib/python3.9/site-packages (from google-auth<3,>=1.6.3->tensorboard<2.15,>=2.14->tensorflow-macos==2.14.0->tensorflow) (0.3.0)\r\n",
      "Requirement already satisfied: rsa<5,>=3.1.4 in ./venv/lib/python3.9/site-packages (from google-auth<3,>=1.6.3->tensorboard<2.15,>=2.14->tensorflow-macos==2.14.0->tensorflow) (4.9)\r\n",
      "Requirement already satisfied: requests-oauthlib>=0.7.0 in ./venv/lib/python3.9/site-packages (from google-auth-oauthlib<1.1,>=0.5->tensorboard<2.15,>=2.14->tensorflow-macos==2.14.0->tensorflow) (1.3.1)\r\n",
      "Requirement already satisfied: importlib-metadata>=4.4 in ./venv/lib/python3.9/site-packages (from markdown>=2.6.8->tensorboard<2.15,>=2.14->tensorflow-macos==2.14.0->tensorflow) (6.8.0)\r\n",
      "Requirement already satisfied: charset-normalizer<4,>=2 in ./venv/lib/python3.9/site-packages (from requests<3,>=2.21.0->tensorboard<2.15,>=2.14->tensorflow-macos==2.14.0->tensorflow) (3.3.1)\r\n",
      "Requirement already satisfied: idna<4,>=2.5 in ./venv/lib/python3.9/site-packages (from requests<3,>=2.21.0->tensorboard<2.15,>=2.14->tensorflow-macos==2.14.0->tensorflow) (3.4)\r\n",
      "Requirement already satisfied: urllib3<3,>=1.21.1 in ./venv/lib/python3.9/site-packages (from requests<3,>=2.21.0->tensorboard<2.15,>=2.14->tensorflow-macos==2.14.0->tensorflow) (2.0.7)\r\n",
      "Requirement already satisfied: certifi>=2017.4.17 in ./venv/lib/python3.9/site-packages (from requests<3,>=2.21.0->tensorboard<2.15,>=2.14->tensorflow-macos==2.14.0->tensorflow) (2023.7.22)\r\n",
      "Requirement already satisfied: MarkupSafe>=2.1.1 in ./venv/lib/python3.9/site-packages (from werkzeug>=1.0.1->tensorboard<2.15,>=2.14->tensorflow-macos==2.14.0->tensorflow) (2.1.3)\r\n",
      "Requirement already satisfied: zipp>=0.5 in ./venv/lib/python3.9/site-packages (from importlib-metadata>=4.4->markdown>=2.6.8->tensorboard<2.15,>=2.14->tensorflow-macos==2.14.0->tensorflow) (3.17.0)\r\n",
      "Requirement already satisfied: pyasn1<0.6.0,>=0.4.6 in ./venv/lib/python3.9/site-packages (from pyasn1-modules>=0.2.1->google-auth<3,>=1.6.3->tensorboard<2.15,>=2.14->tensorflow-macos==2.14.0->tensorflow) (0.5.0)\r\n",
      "Requirement already satisfied: oauthlib>=3.0.0 in ./venv/lib/python3.9/site-packages (from requests-oauthlib>=0.7.0->google-auth-oauthlib<1.1,>=0.5->tensorboard<2.15,>=2.14->tensorflow-macos==2.14.0->tensorflow) (3.2.2)\r\n",
      "\r\n",
      "\u001B[1m[\u001B[0m\u001B[34;49mnotice\u001B[0m\u001B[1;39;49m]\u001B[0m\u001B[39;49m A new release of pip is available: \u001B[0m\u001B[31;49m23.2.1\u001B[0m\u001B[39;49m -> \u001B[0m\u001B[32;49m23.3.1\u001B[0m\r\n",
      "\u001B[1m[\u001B[0m\u001B[34;49mnotice\u001B[0m\u001B[1;39;49m]\u001B[0m\u001B[39;49m To update, run: \u001B[0m\u001B[32;49mpip install --upgrade pip\u001B[0m\r\n",
      "Requirement already satisfied: scikit-learn in ./venv/lib/python3.9/site-packages (1.3.2)\r\n",
      "Requirement already satisfied: numpy<2.0,>=1.17.3 in ./venv/lib/python3.9/site-packages (from scikit-learn) (1.26.1)\r\n",
      "Requirement already satisfied: scipy>=1.5.0 in ./venv/lib/python3.9/site-packages (from scikit-learn) (1.11.3)\r\n",
      "Requirement already satisfied: joblib>=1.1.1 in ./venv/lib/python3.9/site-packages (from scikit-learn) (1.3.2)\r\n",
      "Requirement already satisfied: threadpoolctl>=2.0.0 in ./venv/lib/python3.9/site-packages (from scikit-learn) (3.2.0)\r\n",
      "\r\n",
      "\u001B[1m[\u001B[0m\u001B[34;49mnotice\u001B[0m\u001B[1;39;49m]\u001B[0m\u001B[39;49m A new release of pip is available: \u001B[0m\u001B[31;49m23.2.1\u001B[0m\u001B[39;49m -> \u001B[0m\u001B[32;49m23.3.1\u001B[0m\r\n",
      "\u001B[1m[\u001B[0m\u001B[34;49mnotice\u001B[0m\u001B[1;39;49m]\u001B[0m\u001B[39;49m To update, run: \u001B[0m\u001B[32;49mpip install --upgrade pip\u001B[0m\r\n",
      "Requirement already satisfied: scikeras in ./venv/lib/python3.9/site-packages (0.12.0)\r\n",
      "Requirement already satisfied: packaging>=0.21 in ./venv/lib/python3.9/site-packages (from scikeras) (23.2)\r\n",
      "Requirement already satisfied: scikit-learn>=1.0.0 in ./venv/lib/python3.9/site-packages (from scikeras) (1.3.2)\r\n",
      "Requirement already satisfied: tensorflow-metal<2.0.0,>=1.1.0 in ./venv/lib/python3.9/site-packages (from scikeras) (1.1.0)\r\n",
      "Requirement already satisfied: numpy<2.0,>=1.17.3 in ./venv/lib/python3.9/site-packages (from scikit-learn>=1.0.0->scikeras) (1.26.1)\r\n",
      "Requirement already satisfied: scipy>=1.5.0 in ./venv/lib/python3.9/site-packages (from scikit-learn>=1.0.0->scikeras) (1.11.3)\r\n",
      "Requirement already satisfied: joblib>=1.1.1 in ./venv/lib/python3.9/site-packages (from scikit-learn>=1.0.0->scikeras) (1.3.2)\r\n",
      "Requirement already satisfied: threadpoolctl>=2.0.0 in ./venv/lib/python3.9/site-packages (from scikit-learn>=1.0.0->scikeras) (3.2.0)\r\n",
      "Requirement already satisfied: wheel~=0.35 in ./venv/lib/python3.9/site-packages (from tensorflow-metal<2.0.0,>=1.1.0->scikeras) (0.41.2)\r\n",
      "Requirement already satisfied: six>=1.15.0 in ./venv/lib/python3.9/site-packages (from tensorflow-metal<2.0.0,>=1.1.0->scikeras) (1.16.0)\r\n",
      "\r\n",
      "\u001B[1m[\u001B[0m\u001B[34;49mnotice\u001B[0m\u001B[1;39;49m]\u001B[0m\u001B[39;49m A new release of pip is available: \u001B[0m\u001B[31;49m23.2.1\u001B[0m\u001B[39;49m -> \u001B[0m\u001B[32;49m23.3.1\u001B[0m\r\n",
      "\u001B[1m[\u001B[0m\u001B[34;49mnotice\u001B[0m\u001B[1;39;49m]\u001B[0m\u001B[39;49m To update, run: \u001B[0m\u001B[32;49mpip install --upgrade pip\u001B[0m\r\n"
     ]
    }
   ]
  },
  {
   "cell_type": "code",
   "source": [
    "import random as python_random\n",
    "import argparse\n",
    "import numpy as np\n",
    "import tensorflow as tf\n",
    "import emoji\n",
    "import seaborn as sns\n",
    "import matplotlib.pyplot as plt\n",
    "import pandas as pd\n",
    "import os\n",
    "\n",
    "from gensim.models import KeyedVectors\n",
    "\n",
    "from sklearn.preprocessing import LabelBinarizer\n",
    "from sklearn.metrics import accuracy_score, f1_score, confusion_matrix\n",
    "\n",
    "from tensorflow.keras.optimizers.legacy import Adam\n",
    "from tensorflow.keras import Input, Model\n",
    "from tensorflow.keras.layers import Bidirectional, GRU, LSTM,Embedding, Dense, Conv1D, MaxPooling1D, concatenate, Flatten, Dropout\n",
    "from scikeras.wrappers import KerasClassifier \n",
    "\n",
    "from keras.preprocessing.text import Tokenizer\n",
    "from keras.utils import pad_sequences\n",
    "\n",
    "from wordsegment import load, segment\n",
    "\n"
   ],
   "metadata": {
    "id": "B1DeafB__RG5",
    "ExecuteTime": {
     "end_time": "2023-11-05T21:46:27.909895Z",
     "start_time": "2023-11-05T21:46:27.907887Z"
    }
   },
   "execution_count": 212,
   "outputs": []
  },
  {
   "cell_type": "code",
   "source": [
    "# Setting random seeds\n",
    "np.random.seed(1234)\n",
    "tf.random.set_seed(1234)\n",
    "python_random.seed(1234)"
   ],
   "metadata": {
    "id": "R7yp3gHh_UXN",
    "ExecuteTime": {
     "end_time": "2023-11-05T21:46:28.039961Z",
     "start_time": "2023-11-05T21:46:28.038264Z"
    }
   },
   "execution_count": 213,
   "outputs": []
  },
  {
   "cell_type": "code",
   "source": [
    "def create_arg_parser():\n",
    "    \"\"\"Function that builds up all the arguments used in this script.\n",
    "    :return: the parsed arguments\n",
    "    \"\"\"\n",
    "    drive_path = \"\" # File path in drive, can be removed when using as a solo python script.\n",
    "    parser = argparse.ArgumentParser()\n",
    "\n",
    "    parser.add_argument('-f') # needed to run in google collab, can be removed outside collab.\n",
    "    parser.add_argument(\"-i\",\n",
    "                        \"--train_file\",\n",
    "                        default=drive_path + 'train.tsv',\n",
    "                        type=str,\n",
    "                        help=\"Input file to learn from (default train.tsv)\"\n",
    "    )\n",
    "    parser.add_argument(\"-d\",\n",
    "                        \"--dev_file\",\n",
    "                        type=str,\n",
    "                        default=drive_path + 'dev.tsv',\n",
    "                        help=\"Separate dev set to read in (default dev.tsv)\"\n",
    "    )\n",
    "    parser.add_argument(\"-t\",\n",
    "                        \"--test_file\",\n",
    "                        type=str,\n",
    "                        default=drive_path + 'test.tsv',\n",
    "                        help=\"If added, use trained model to predict on test set\"\n",
    "    )\n",
    "    parser.add_argument(\n",
    "        \"-vec\",\n",
    "        \"--vectorizer\",\n",
    "        default=\"glove\",\n",
    "        type=str,\n",
    "        help=\"Vectorizer to use (glove, fasttext) (default glove)\",\n",
    "    )\n",
    "    # Emoji to textual representation\n",
    "    parser.add_argument(\n",
    "        \"-dem\",\n",
    "        \"--demojize\",\n",
    "        action=\"store_true\",\n",
    "        help=\"Demojize the input to rewrite emoji's to their textual representation e.g.,  ❤ -> :heart: \",\n",
    "\n",
    "    )\n",
    "    # Emoji to natural language\n",
    "    parser.add_argument(\n",
    "        \"-demclean\",\n",
    "        \"--demojize_clean\",\n",
    "        action=\"store_true\",\n",
    "        help=\"Demojize the input to rewrite emoji's to natural language in order to preserve semantic meaning eg., \"\n",
    "             \"❤ -> heart\",\n",
    "\n",
    "    )\n",
    "    parser.add_argument(\n",
    "        \"-seg\",\n",
    "        \"--wordsegment\",\n",
    "        action=\"store_true\",\n",
    "        help=\"Perform wordsegmentation on hashtags to better detect profanity and other offensive language\",\n",
    "\n",
    "    )\n",
    "    \n",
    "    args = parser.parse_args()    \n",
    "    \n",
    "    args.demojize_clean = True\n",
    "    args.wordsegment = True\n",
    "    \n",
    "    filename = \"lstm_\" + args.vectorizer\n",
    "    \n",
    "    if args.demojize:\n",
    "        filename += \"_demojize\"\n",
    "\n",
    "    if args.demojize_clean:\n",
    "        filename += \"_demojizeclean\"\n",
    "\n",
    "    if args.wordsegment:\n",
    "        filename += \"_wordsegment\"\n",
    "    \n",
    "    args.model_name = filename\n",
    "\n",
    "    return args"
   ],
   "metadata": {
    "id": "m4FpQCAp_Wk5",
    "ExecuteTime": {
     "end_time": "2023-11-05T21:46:28.045304Z",
     "start_time": "2023-11-05T21:46:28.043536Z"
    }
   },
   "execution_count": 214,
   "outputs": []
  },
  {
   "cell_type": "code",
   "execution_count": 215,
   "outputs": [],
   "source": [
    "def segment_hashtag(hashtag):\n",
    "    \"\"\"\n",
    "    Segments a hashtag into words.\n",
    "    :param str hashtag: The hashtag to segment.\n",
    "    :return: The segmented hashtag.\n",
    "    \"\"\"\n",
    "    try:\n",
    "        segments = segment(hashtag)\n",
    "        return segments if segments else [hashtag]\n",
    "    except ValueError:\n",
    "        return [hashtag]"
   ],
   "metadata": {
    "collapsed": false,
    "ExecuteTime": {
     "end_time": "2023-11-05T21:46:28.048480Z",
     "start_time": "2023-11-05T21:46:28.046900Z"
    }
   }
  },
  {
   "cell_type": "code",
   "source": [
    "def read_corpus(corpus_file):\n",
    "    \"\"\"\n",
    "    Reads the corpus file and gets the documents with labels.\n",
    "    :param str corpus_file: Path to the corpus file.\n",
    "    :return: the document\n",
    "    :return: the labels\n",
    "    \"\"\"\n",
    "    documents = []\n",
    "    labels = []\n",
    "\n",
    "    with open(corpus_file, encoding=\"utf-8\") as in_file:\n",
    "        for line in in_file:\n",
    "            if args.demojize:\n",
    "                line = emoji.demojize(line)\n",
    "\n",
    "            elif args.demojize_clean:\n",
    "                line = emoji.demojize(line)\n",
    "                for word in line.split():\n",
    "                    if word[0] == \":\" and word[-1] == \":\":\n",
    "                        line = line.replace(word, \" \".join(segment_hashtag(word)))\n",
    "\n",
    "            if args.wordsegment:\n",
    "                for word in line.split():\n",
    "                    if \"#\" in word:\n",
    "                        line = line.replace(word, \" \".join(segment_hashtag(word)))\n",
    "\n",
    "\n",
    "            documents.append(' '.join(line.split()[:-1]))\n",
    "            labels.append(line.split()[-1])\n",
    "\n",
    "    return documents, labels"
   ],
   "metadata": {
    "id": "MC4audGK_Xjw",
    "ExecuteTime": {
     "end_time": "2023-11-05T21:46:28.052455Z",
     "start_time": "2023-11-05T21:46:28.050764Z"
    }
   },
   "execution_count": 216,
   "outputs": []
  },
  {
   "cell_type": "code",
   "source": [
    "def create_model(matrix, max_sequence_length):\n",
    "    embedding_layer = Embedding(\n",
    "        matrix.shape[0],\n",
    "        matrix.shape[1],\n",
    "        weights=[matrix],\n",
    "        input_length=max_sequence_length,\n",
    "        trainable=False\n",
    "    )\n",
    "    \n",
    "    sequence_input = Input(shape=(max_sequence_length,), dtype='int32')\n",
    "    embedded_sequences = embedding_layer(sequence_input)\n",
    "    embedded_sequences = Dropout(0.3)(embedded_sequences)\n",
    "    \n",
    "    # convolutional neural network\n",
    "    cnn_layer = Conv1D(128, 5, activation='relu')(embedded_sequences)\n",
    "    pooling_layer = MaxPooling1D(5)(cnn_layer)\n",
    "    flat_layer = Flatten()(pooling_layer)\n",
    "    cnn_out = Dense(128, activation='relu')(flat_layer)\n",
    "    \n",
    "    # Bidirectional LSTM and GRU\n",
    "    bi_lstm_layer = Bidirectional(LSTM(128, return_sequences=True))(embedded_sequences)\n",
    "    bi_gru_layer = Bidirectional(GRU(128))(bi_lstm_layer)\n",
    "    \n",
    "    # Combining the CNN and the RNN output\n",
    "    combined_layer = concatenate([cnn_out, bi_gru_layer])\n",
    "    combined_layer = Dense(128, activation='relu')(combined_layer)\n",
    "    output = Dense(1, activation='sigmoid')(combined_layer)\n",
    "    \n",
    "    new_model = Model(sequence_input, output)\n",
    "    new_model.compile(loss='binary_crossentropy', optimizer=Adam(), metrics=['accuracy'])\n",
    "    \n",
    "    return new_model"
   ],
   "metadata": {
    "id": "qCCALZ9t_bBW",
    "ExecuteTime": {
     "end_time": "2023-11-05T21:46:28.056270Z",
     "start_time": "2023-11-05T21:46:28.054732Z"
    }
   },
   "execution_count": 217,
   "outputs": []
  },
  {
   "cell_type": "code",
   "execution_count": 218,
   "outputs": [],
   "source": [
    "def setup_vectorizer(vectorizer_name):\n",
    "    if vectorizer_name == \"glove\":\n",
    "        if not os.path.exists('./glove/twitter_embeddings_word2vec.bin'):\n",
    "            raise ValueError(\"glove file not found\")\n",
    "        return KeyedVectors.load_word2vec_format('./glove/twitter_embeddings_word2vec.bin', binary=True)\n",
    "    elif vectorizer_name == \"fasttext\":\n",
    "        if not os.path.exists('./fasttext/wiki-news-300d-1M-subword.vec'):\n",
    "            raise ValueError(\"fasttext file not found\")\n",
    "        return KeyedVectors.load_word2vec_format('./fasttext/wiki-news-300d-1M-subword.vec', binary=False)\n",
    "    else:\n",
    "        raise ValueError(\"Vectorizer not supported, please use glove or fasttext\")"
   ],
   "metadata": {
    "collapsed": false,
    "ExecuteTime": {
     "end_time": "2023-11-05T21:46:28.059329Z",
     "start_time": "2023-11-05T21:46:28.057527Z"
    }
   }
  },
  {
   "cell_type": "code",
   "execution_count": 219,
   "outputs": [],
   "source": [
    "def grid_search():\n",
    "    create_model_partial = partial(create_model, matrix=embedding_matrix, max_sequence_length=input_length)\n",
    "\n",
    "    param_grid = {\n",
    "        'batch_size': [64, 128, 256],\n",
    "        'epochs': [10, 20, 30]\n",
    "    }\n",
    "\n",
    "    grid_search_model = KerasClassifier(build_fn=create_model_partial, verbose=0)\n",
    "\n",
    "    grid = GridSearchCV(estimator=grid_search_model, param_grid=param_grid, n_jobs=-1, cv=3)\n",
    "\n",
    "    grid_result = grid.fit(X_train_padded, Y_train_onehot)\n",
    "\n",
    "    print(\"Best: %f using %s\" % (grid_result.best_score_, grid_result.best_params_))"
   ],
   "metadata": {
    "collapsed": false,
    "ExecuteTime": {
     "end_time": "2023-11-05T21:46:28.063458Z",
     "start_time": "2023-11-05T21:46:28.060752Z"
    }
   }
  },
  {
   "cell_type": "code",
   "execution_count": 220,
   "outputs": [
    {
     "name": "stderr",
     "output_type": "stream",
     "text": [
      "WARNING:absl:At this time, the v2.11+ optimizer `tf.keras.optimizers.Adam` runs slowly on M1/M2 Macs, please use the legacy Keras optimizer instead, located at `tf.keras.optimizers.legacy.Adam`.\n"
     ]
    },
    {
     "name": "stdout",
     "output_type": "stream",
     "text": [
      "Model configuration:\n",
      "Vectorizer: glove\n",
      "Emoji to text representation: False\n",
      "Emoji to text representation clean: True\n",
      "Word segmentation on hashtags: True\n",
      "32/32 [==============================] - 2s 36ms/step\n",
      "f1 score for dev set macro: 0.718418836065895\n",
      "27/27 [==============================] - 1s 38ms/step\n",
      "f1 score for test set macro: 0.7194149039469903\n"
     ]
    },
    {
     "data": {
      "text/plain": "<Figure size 1000x600 with 2 Axes>",
      "image/png": "[encoded data removed]"
     },
     "metadata": {},
     "output_type": "display_data"
    },
    {
     "data": {
      "text/plain": "<Figure size 1000x600 with 2 Axes>",
      "image/png": "[encoded data removed]"
     },
     "metadata": {},
     "output_type": "display_data"
    }
   ],
   "source": [
    "from functools import partial\n",
    "from sklearn.model_selection import GridSearchCV\n",
    "\n",
    "args = create_arg_parser()\n",
    "\n",
    "# Read data\n",
    "X_train, Y_train = read_corpus(args.train_file)\n",
    "X_dev, Y_dev = read_corpus(args.dev_file)\n",
    "X_test, Y_test = read_corpus(args.test_file)\n",
    "\n",
    "# Setup vectorizer\n",
    "vectorizer = setup_vectorizer(args.vectorizer)\n",
    "embedding_dim = vectorizer.vector_size\n",
    "voc = len(vectorizer)\n",
    "\n",
    "# Create embedding matrix, used to store the word embeddings\n",
    "embedding_matrix = np.zeros((voc, embedding_dim))\n",
    "\n",
    "for vec_word, i in vectorizer.key_to_index.items():\n",
    "    embedding_vector = vectorizer[vec_word]\n",
    "    \n",
    "    # If there is a vector for the word, store it in the embedding matrix\n",
    "    if embedding_vector is not None:\n",
    "        embedding_matrix[i] = embedding_vector\n",
    "\n",
    "# Tokenize the words\n",
    "tokenizer = Tokenizer(num_words=voc)\n",
    "tokenizer.word_index = {word: index for word, index in vectorizer.key_to_index.items()}\n",
    "\n",
    "# Tokenize and pad sequences for train, dev and test set\n",
    "X_train_seq = tokenizer.texts_to_sequences(X_train)\n",
    "X_dev_seq = tokenizer.texts_to_sequences(X_dev)\n",
    "X_test_seq = tokenizer.texts_to_sequences(X_test)\n",
    "\n",
    "X_train_padded = pad_sequences(X_train_seq, padding='post')\n",
    "X_dev_padded = pad_sequences(X_dev_seq, padding='post', maxlen=X_train_padded.shape[1])\n",
    "X_test_padded = pad_sequences(X_test_seq, padding='post', maxlen=X_train_padded.shape[1])\n",
    "\n",
    "# One hot encode labels\n",
    "encoder = LabelBinarizer() # label to a binary format\n",
    "\n",
    "Y_train_onehot = encoder.fit_transform(Y_train)\n",
    "Y_dev_onehot = encoder.transform(Y_dev)\n",
    "Y_test_onehot = encoder.transform(Y_test)\n",
    "\n",
    "input_length = X_train_padded.shape[1]\n",
    "\n",
    "# grid_search()\n",
    "\n",
    "if os.path.isfile(args.model_name + \".keras\"):\n",
    "    model = tf.keras.models.load_model(args.model_name + \".keras\")\n",
    "else:\n",
    "    model = create_model(embedding_matrix, input_length)\n",
    " \n",
    "    model.fit(X_train_padded, Y_train_onehot, validation_data=(X_dev_padded, Y_dev_onehot), epochs=10, batch_size=128)\n",
    "    model.save(args.model_name + \".keras\")\n",
    "\n",
    "print(\"Model configuration:\")\n",
    "\n",
    "print(\"Vectorizer: \" + args.vectorizer)\n",
    "print(\"Emoji to text representation: \" + str(args.demojize))\n",
    "print(\"Emoji to text representation clean: \" + str(args.demojize_clean))\n",
    "print(\"Word segmentation on hashtags: \" + str(args.wordsegment))\n",
    "\n",
    "# Evaluate model on test set\n",
    "dev_predictions = model.predict(X_dev_padded)\n",
    "dev_binary_predictions = [1 if pred[0] > 0.5 else 0 for pred in dev_predictions]\n",
    "\n",
    "print(\"f1 score for dev set macro: {}\".format(f1_score(Y_dev_onehot, dev_binary_predictions, average='macro')))\n",
    "\n",
    "# Printing confusion matrix\n",
    "cf_matrix = confusion_matrix(Y_dev_onehot, dev_binary_predictions)\n",
    "index = [\"NOT\", \"OFF\"]\n",
    "columns  = [\"NOT\", \"OFF\"]\n",
    "cm_df = pd.DataFrame(cf_matrix, columns, index)\n",
    "\n",
    "fig = plt.figure(figsize=(10,6))\n",
    "sns.heatmap(cm_df, annot=True, fmt='g')\n",
    "fig.savefig(args.model_name + 'dev_matrix')\n",
    "\n",
    "# Evaluate model on test set\n",
    "test_predictions = model.predict(X_test_padded)\n",
    "test_binary_predictions = [1 if pred[0] > 0.5 else 0 for pred in test_predictions]\n",
    "\n",
    "print(\"f1 score for test set macro: {}\".format(f1_score(Y_test_onehot, test_binary_predictions, average='macro')))\n",
    "\n",
    "# Printing confusion matrix\n",
    "cf_matrix = confusion_matrix(Y_test_onehot, test_binary_predictions)\n",
    "index = [\"NOT\", \"OFF\"]\n",
    "columns  = [\"NOT\", \"OFF\"]\n",
    "cm_df = pd.DataFrame(cf_matrix, columns, index)\n",
    "\n",
    "fig = plt.figure(figsize=(10,6))\n",
    "sns.heatmap(cm_df, annot=True, fmt='g')\n",
    "fig.savefig(args.model_name + 'test_matrix')"
   ],
   "metadata": {
    "collapsed": false,
    "ExecuteTime": {
     "end_time": "2023-11-05T21:46:39.251997Z",
     "start_time": "2023-11-05T21:46:28.062744Z"
    }
   }
  },
  {
   "cell_type": "code",
   "execution_count": 220,
   "outputs": [],
   "source": [],
   "metadata": {
    "collapsed": false,
    "ExecuteTime": {
     "end_time": "2023-11-05T21:46:39.252114Z",
     "start_time": "2023-11-05T21:46:39.187778Z"
    }
   }
  }
 ]
}
